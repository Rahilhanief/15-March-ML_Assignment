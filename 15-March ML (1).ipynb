{
 "cells": [
  {
   "cell_type": "code",
   "execution_count": 2,
   "id": "9b9bf7d1-1133-4970-a4c5-e412f3768029",
   "metadata": {},
   "outputs": [],
   "source": [
    "## Q No. 1 :\n",
    "# Artificial intelligence is the simulation of human intelligence processes by machines, especially computer systems.\n",
    "# Specific applications of AI include expert systems, natural language processing, speech recognition and machine vision."
   ]
  },
  {
   "cell_type": "code",
   "execution_count": 3,
   "id": "bb49f723-1afe-4670-996f-ca8e32b7cc37",
   "metadata": {},
   "outputs": [
    {
     "data": {
      "text/plain": [
       "'\\nSupervised learning is the types of machine learning in which machines are trained using well \"labelled\" training data, and on basis of that data, machines predict the output.\\nThe labelled data means some input data is already tagged with the correct output.\\nOne practical example of supervised learning problems is predicting house prices.\\nHow is this achieved? First, we need data about the houses: square footage, number of rooms, features,\\nwhether a house has a garden or not, and so on.\\nWe then need to know the prices of these houses, i.e. the corresponding labels.\\n'"
      ]
     },
     "execution_count": 3,
     "metadata": {},
     "output_type": "execute_result"
    }
   ],
   "source": [
    "## Q No. 2 :\n",
    "\"\"\"\n",
    "Supervised learning is the types of machine learning in which machines are trained using well \"labelled\" training data, and on basis of that data, machines predict the output.\n",
    "The labelled data means some input data is already tagged with the correct output.\n",
    "One practical example of supervised learning problems is predicting house prices.\n",
    "How is this achieved? First, we need data about the houses: square footage, number of rooms, features,\n",
    "whether a house has a garden or not, and so on.\n",
    "We then need to know the prices of these houses, i.e. the corresponding labels.\n",
    "\"\"\""
   ]
  },
  {
   "cell_type": "code",
   "execution_count": 4,
   "id": "9b1e51b4-230c-4351-a539-1c3731770ec9",
   "metadata": {},
   "outputs": [
    {
     "data": {
      "text/plain": [
       "'\\nUnsupervised learning is when it can provide a set of unlabelled data, which it is required to analyze and find patterns inside.\\n7 Unsupervised Machine Learning Real Life Examples\\nAudience segmentation.\\nCustomer persona investigation.\\nAnomaly detection (for example, to detect bot activity)\\nPattern recognition (grouping images, transcribing audio)\\nInventory management (by conversion activity or by availability)\\n'"
      ]
     },
     "execution_count": 4,
     "metadata": {},
     "output_type": "execute_result"
    }
   ],
   "source": [
    "## Q No. 3 :\n",
    "\"\"\"\n",
    "Unsupervised learning is when it can provide a set of unlabelled data, which it is required to analyze and find patterns inside.\n",
    "7 Unsupervised Machine Learning Real Life Examples\n",
    "Audience segmentation.\n",
    "Customer persona investigation.\n",
    "Anomaly detection (for example, to detect bot activity)\n",
    "Pattern recognition (grouping images, transcribing audio)\n",
    "Inventory management (by conversion activity or by availability)\n",
    "\"\"\""
   ]
  },
  {
   "cell_type": "code",
   "execution_count": 5,
   "id": "cf5f19ed-cdab-4f29-b0ea-5b1defd4a23b",
   "metadata": {},
   "outputs": [
    {
     "data": {
      "text/plain": [
       "'\\n🔹Artificial Intelligence (AI) enables machines to think by understanding, learning from the data, and taking decisions based on patterns hidden in the data or make inferences that would otherwise be very difficult for humans to make manually. The end goal of using ML or DL is to create an AI application or machine as smart as humans.\\n\\n🔹Machine Learning (ML) is a subset of AI; it provides us statistical tools/techniques like Supervised, Unsupervised, and Reinforcement learning to explore and analyze the data.\\n\\n🔹Deep Learning (DL) is further a subset of ML, and the main idea behind it is to make machines learn by mimicking the human brain. Here, we create a multi neural network architecture with the help of different techniques like ANN, CNN, and RNN.\\n\\n🔹Data Science (DS) is basically drawing insights from structured and unstructured data either by using ML or DL or without these techniques. We can even use different visualization tools, statistics, and probability to gain these insights.\\n'"
      ]
     },
     "execution_count": 5,
     "metadata": {},
     "output_type": "execute_result"
    }
   ],
   "source": [
    "## Q No. 4 :\n",
    "\"\"\"\n",
    "🔹Artificial Intelligence (AI) enables machines to think by understanding, learning from the data, and taking decisions based on patterns hidden in the data or make inferences that would otherwise be very difficult for humans to make manually. The end goal of using ML or DL is to create an AI application or machine as smart as humans.\n",
    "\n",
    "🔹Machine Learning (ML) is a subset of AI; it provides us statistical tools/techniques like Supervised, Unsupervised, and Reinforcement learning to explore and analyze the data.\n",
    "\n",
    "🔹Deep Learning (DL) is further a subset of ML, and the main idea behind it is to make machines learn by mimicking the human brain. Here, we create a multi neural network architecture with the help of different techniques like ANN, CNN, and RNN.\n",
    "\n",
    "🔹Data Science (DS) is basically drawing insights from structured and unstructured data either by using ML or DL or without these techniques. We can even use different visualization tools, statistics, and probability to gain these insights.\n",
    "\"\"\""
   ]
  },
  {
   "cell_type": "code",
   "execution_count": 6,
   "id": "bec5b91a-4384-4a12-8596-d77d887af17f",
   "metadata": {},
   "outputs": [
    {
     "data": {
      "text/plain": [
       "'In supervised learning, input data is provided to the model along with the output.\\nIn unsupervised learning, only input data is provided to the model.\\nThe goal of supervised learning is to train the model so that it can predict the output when it is given new data.\\nSemi-supervised machine learning is a combination of supervised and unsupervised learning.\\nIt uses a small amount of labeled data and a large amount of unlabeled data,\\nwhich provides the benefits of both unsupervised and supervised learning while avoiding the challenges of finding a large amount of labeled data.'"
      ]
     },
     "execution_count": 6,
     "metadata": {},
     "output_type": "execute_result"
    }
   ],
   "source": [
    "## Q No. 5 :\n",
    "\"\"\"In supervised learning, input data is provided to the model along with the output.\n",
    "In unsupervised learning, only input data is provided to the model.\n",
    "The goal of supervised learning is to train the model so that it can predict the output when it is given new data.\n",
    "Semi-supervised machine learning is a combination of supervised and unsupervised learning.\n",
    "It uses a small amount of labeled data and a large amount of unlabeled data,\n",
    "which provides the benefits of both unsupervised and supervised learning while avoiding the challenges of finding a large amount of labeled data.\"\"\""
   ]
  },
  {
   "cell_type": "code",
   "execution_count": 7,
   "id": "217137f7-ea04-41aa-84b9-12b54ceb2628",
   "metadata": {},
   "outputs": [
    {
     "data": {
      "text/plain": [
       "'Validation split helps to improve the model performance by fine-tuning the model after each epoch.\\nThe validation set is used for hyperparameter tuning. The test set is used for the final evaluation of the best model. \\nThe test set informs us about the final accuracy of the model after completing the training phase.\\nThe point of a test set is to give you a final, unbiased performance measure of your entire model building process.\\nThe training set should not be too small; else, the model will not have enough data to learn.\\nTraining data is the main and most important data which helps machines to learn and make the predictions.\\nThis data set is used by machine learning engineer to develop your algorithm and more than 70% of your total data used in the project.'"
      ]
     },
     "execution_count": 7,
     "metadata": {},
     "output_type": "execute_result"
    }
   ],
   "source": [
    "## Q No. 6 :\n",
    "\"\"\"Validation split helps to improve the model performance by fine-tuning the model after each epoch.\n",
    "The validation set is used for hyperparameter tuning. The test set is used for the final evaluation of the best model. \n",
    "The test set informs us about the final accuracy of the model after completing the training phase.\n",
    "The point of a test set is to give you a final, unbiased performance measure of your entire model building process.\n",
    "The training set should not be too small; else, the model will not have enough data to learn.\n",
    "Training data is the main and most important data which helps machines to learn and make the predictions.\n",
    "This data set is used by machine learning engineer to develop your algorithm and more than 70% of your total data used in the project.\"\"\""
   ]
  },
  {
   "cell_type": "code",
   "execution_count": 8,
   "id": "1674246a-e932-41e4-8ef2-3d8a742439a0",
   "metadata": {},
   "outputs": [
    {
     "data": {
      "text/plain": [
       "'The most common version of anomaly detection is using the unsupervised approach.\\nIn there, we train a machine-learning model to fit to the normal behavior using an unlabeled dataset.\\nIn that process, we make an important assumption that the majority of the data in the training set are normal examples.'"
      ]
     },
     "execution_count": 8,
     "metadata": {},
     "output_type": "execute_result"
    }
   ],
   "source": [
    "## Q No. 7:\n",
    "\"\"\"The most common version of anomaly detection is using the unsupervised approach.\n",
    "In there, we train a machine-learning model to fit to the normal behavior using an unlabeled dataset.\n",
    "In that process, we make an important assumption that the majority of the data in the training set are normal examples.\"\"\""
   ]
  },
  {
   "cell_type": "code",
   "execution_count": 9,
   "id": "93e52865-17ba-4bdd-9cc2-1607b01850ff",
   "metadata": {},
   "outputs": [
    {
     "data": {
      "text/plain": [
       "'The most commonly used Supervised Learning algorithms are decision tree, logistic regression,\\nlinear regression, support vector machine.\\nThe most commonly used Unsupervised Learning algorithms are k-means clustering, hierarchical clustering,\\nand apriori algorithm.'"
      ]
     },
     "execution_count": 9,
     "metadata": {},
     "output_type": "execute_result"
    }
   ],
   "source": [
    "## Q No. 8:\n",
    "\"\"\"The most commonly used Supervised Learning algorithms are decision tree, logistic regression,\n",
    "linear regression, support vector machine.\n",
    "The most commonly used Unsupervised Learning algorithms are k-means clustering, hierarchical clustering,\n",
    "and apriori algorithm.\"\"\""
   ]
  }
 ],
 "metadata": {
  "kernelspec": {
   "display_name": "Python 3 (ipykernel)",
   "language": "python",
   "name": "python3"
  },
  "language_info": {
   "codemirror_mode": {
    "name": "ipython",
    "version": 3
   },
   "file_extension": ".py",
   "mimetype": "text/x-python",
   "name": "python",
   "nbconvert_exporter": "python",
   "pygments_lexer": "ipython3",
   "version": "3.10.8"
  }
 },
 "nbformat": 4,
 "nbformat_minor": 5
}
